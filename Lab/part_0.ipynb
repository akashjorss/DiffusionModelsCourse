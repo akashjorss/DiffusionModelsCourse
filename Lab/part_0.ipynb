{
 "cells": [
  {
   "cell_type": "markdown",
   "metadata": {},
   "source": [
    "# Preliminary"
   ]
  },
  {
   "cell_type": "markdown",
   "metadata": {
    "vscode": {
     "languageId": "plaintext"
    }
   },
   "source": [
    "## Setup the working environment"
   ]
  },
  {
   "cell_type": "markdown",
   "metadata": {},
   "source": [
    "Before you start, ensure to download the ``assets`` folder.\n",
    "It has three sub folders\n",
    "\n",
    "- ``2D_data/``: contain data that will be used in Part I\n",
    "- ``images/``: contains two images of CelebaHQ dataset used in Part II \n",
    "- ``py_code/``: provides python code to help in both parts\n",
    "\n",
    "```\n",
    "  assets/\n",
    "  ├──── 2D_data/\n",
    "  |       └── cloud_points.pt\n",
    "  |       └── ...\n",
    "  ├──── images/\n",
    "  |       └── 00010.jpg\n",
    "  |       └── ...\n",
    "  ├──── py_code/\n",
    "  |    └── diffusion.py\n",
    "  |    └── ...\n",
    "```\n",
    "\n",
    "Make sure to place this folder in same level as the notebook (or python scripts) you will using to work on the two parts.\n",
    "\n",
    "**Example**\n",
    "\n",
    "```\n",
    "  ├── assets/\n",
    "  ├── part_0.ipynb\n",
    "```\n",
    "\n",
    "where ``part_0.ipynb`` refer to the current notebook."
   ]
  },
  {
   "cell_type": "code",
   "execution_count": 1,
   "metadata": {},
   "outputs": [
    {
     "data": {
      "text/plain": [
       "True"
      ]
     },
     "execution_count": 1,
     "metadata": {},
     "output_type": "execute_result"
    }
   ],
   "source": [
    "# check that\n",
    "import os\n",
    "\n",
    "os.path.isdir(\"./assets\")"
   ]
  },
  {
   "cell_type": "markdown",
   "metadata": {},
   "source": [
    "## Test the availability of python packages"
   ]
  },
  {
   "cell_type": "markdown",
   "metadata": {},
   "source": [
    "Ensure the all python packages used throughout the practical session are installed.\n",
    "\n",
    "Running the following cells should not raise any error"
   ]
  },
  {
   "cell_type": "code",
   "execution_count": 2,
   "metadata": {},
   "outputs": [
    {
     "name": "stdout",
     "output_type": "stream",
     "text": [
      "Requirement already satisfied: torch in /Users/amalhotra/DiffusionModelsCourse/.conda/lib/python3.11/site-packages (2.5.1)\n",
      "Requirement already satisfied: filelock in /Users/amalhotra/DiffusionModelsCourse/.conda/lib/python3.11/site-packages (from torch) (3.16.1)\n",
      "Requirement already satisfied: typing-extensions>=4.8.0 in /Users/amalhotra/DiffusionModelsCourse/.conda/lib/python3.11/site-packages (from torch) (4.12.2)\n",
      "Requirement already satisfied: networkx in /Users/amalhotra/DiffusionModelsCourse/.conda/lib/python3.11/site-packages (from torch) (3.4.2)\n",
      "Requirement already satisfied: jinja2 in /Users/amalhotra/DiffusionModelsCourse/.conda/lib/python3.11/site-packages (from torch) (3.1.4)\n",
      "Requirement already satisfied: fsspec in /Users/amalhotra/DiffusionModelsCourse/.conda/lib/python3.11/site-packages (from torch) (2024.10.0)\n",
      "Requirement already satisfied: sympy==1.13.1 in /Users/amalhotra/DiffusionModelsCourse/.conda/lib/python3.11/site-packages (from torch) (1.13.1)\n",
      "Requirement already satisfied: mpmath<1.4,>=1.1.0 in /Users/amalhotra/DiffusionModelsCourse/.conda/lib/python3.11/site-packages (from sympy==1.13.1->torch) (1.3.0)\n",
      "Requirement already satisfied: MarkupSafe>=2.0 in /Users/amalhotra/DiffusionModelsCourse/.conda/lib/python3.11/site-packages (from jinja2->torch) (3.0.2)\n"
     ]
    }
   ],
   "source": [
    "!pip install torch"
   ]
  },
  {
   "cell_type": "code",
   "execution_count": 3,
   "metadata": {},
   "outputs": [],
   "source": [
    "# check PyTorch is installed\n",
    "import torch"
   ]
  },
  {
   "cell_type": "code",
   "execution_count": 4,
   "metadata": {},
   "outputs": [
    {
     "name": "stdout",
     "output_type": "stream",
     "text": [
      "Requirement already satisfied: diffusers in /Users/amalhotra/DiffusionModelsCourse/.conda/lib/python3.11/site-packages (0.31.0)\n",
      "Requirement already satisfied: importlib-metadata in /Users/amalhotra/DiffusionModelsCourse/.conda/lib/python3.11/site-packages (from diffusers) (8.5.0)\n",
      "Requirement already satisfied: filelock in /Users/amalhotra/DiffusionModelsCourse/.conda/lib/python3.11/site-packages (from diffusers) (3.16.1)\n",
      "Requirement already satisfied: huggingface-hub>=0.23.2 in /Users/amalhotra/DiffusionModelsCourse/.conda/lib/python3.11/site-packages (from diffusers) (0.26.2)\n",
      "Requirement already satisfied: numpy in /Users/amalhotra/DiffusionModelsCourse/.conda/lib/python3.11/site-packages (from diffusers) (2.1.3)\n",
      "Requirement already satisfied: regex!=2019.12.17 in /Users/amalhotra/DiffusionModelsCourse/.conda/lib/python3.11/site-packages (from diffusers) (2024.9.11)\n",
      "Requirement already satisfied: requests in /Users/amalhotra/DiffusionModelsCourse/.conda/lib/python3.11/site-packages (from diffusers) (2.32.3)\n",
      "Requirement already satisfied: safetensors>=0.3.1 in /Users/amalhotra/DiffusionModelsCourse/.conda/lib/python3.11/site-packages (from diffusers) (0.4.5)\n",
      "Requirement already satisfied: Pillow in /Users/amalhotra/DiffusionModelsCourse/.conda/lib/python3.11/site-packages (from diffusers) (11.0.0)\n",
      "Requirement already satisfied: fsspec>=2023.5.0 in /Users/amalhotra/DiffusionModelsCourse/.conda/lib/python3.11/site-packages (from huggingface-hub>=0.23.2->diffusers) (2024.10.0)\n",
      "Requirement already satisfied: packaging>=20.9 in /Users/amalhotra/DiffusionModelsCourse/.conda/lib/python3.11/site-packages (from huggingface-hub>=0.23.2->diffusers) (24.1)\n",
      "Requirement already satisfied: pyyaml>=5.1 in /Users/amalhotra/DiffusionModelsCourse/.conda/lib/python3.11/site-packages (from huggingface-hub>=0.23.2->diffusers) (6.0.2)\n",
      "Requirement already satisfied: tqdm>=4.42.1 in /Users/amalhotra/DiffusionModelsCourse/.conda/lib/python3.11/site-packages (from huggingface-hub>=0.23.2->diffusers) (4.66.6)\n",
      "Requirement already satisfied: typing-extensions>=3.7.4.3 in /Users/amalhotra/DiffusionModelsCourse/.conda/lib/python3.11/site-packages (from huggingface-hub>=0.23.2->diffusers) (4.12.2)\n",
      "Requirement already satisfied: zipp>=3.20 in /Users/amalhotra/DiffusionModelsCourse/.conda/lib/python3.11/site-packages (from importlib-metadata->diffusers) (3.20.2)\n",
      "Requirement already satisfied: charset-normalizer<4,>=2 in /Users/amalhotra/DiffusionModelsCourse/.conda/lib/python3.11/site-packages (from requests->diffusers) (3.4.0)\n",
      "Requirement already satisfied: idna<4,>=2.5 in /Users/amalhotra/DiffusionModelsCourse/.conda/lib/python3.11/site-packages (from requests->diffusers) (3.10)\n",
      "Requirement already satisfied: urllib3<3,>=1.21.1 in /Users/amalhotra/DiffusionModelsCourse/.conda/lib/python3.11/site-packages (from requests->diffusers) (2.2.3)\n",
      "Requirement already satisfied: certifi>=2017.4.17 in /Users/amalhotra/DiffusionModelsCourse/.conda/lib/python3.11/site-packages (from requests->diffusers) (2024.8.30)\n"
     ]
    }
   ],
   "source": [
    "!pip install diffusers"
   ]
  },
  {
   "cell_type": "code",
   "execution_count": 7,
   "metadata": {},
   "outputs": [
    {
     "name": "stderr",
     "output_type": "stream",
     "text": [
      "/Users/amalhotra/DiffusionModelsCourse/.conda/lib/python3.11/site-packages/tqdm/auto.py:21: TqdmWarning: IProgress not found. Please update jupyter and ipywidgets. See https://ipywidgets.readthedocs.io/en/stable/user_install.html\n",
      "  from .autonotebook import tqdm as notebook_tqdm\n"
     ]
    }
   ],
   "source": [
    "# check diffusers\n",
    "import diffusers"
   ]
  },
  {
   "cell_type": "code",
   "execution_count": 5,
   "metadata": {},
   "outputs": [],
   "source": [
    "!pip install matplotlib tqdm -qqqq"
   ]
  },
  {
   "cell_type": "code",
   "execution_count": 6,
   "metadata": {},
   "outputs": [],
   "source": [
    "# check matplotlib\n",
    "import matplotlib"
   ]
  },
  {
   "cell_type": "code",
   "execution_count": 7,
   "metadata": {},
   "outputs": [],
   "source": [
    "# this not mandatory, but is good to have it in order to monitor the progress of loop\n",
    "import tqdm"
   ]
  }
 ],
 "metadata": {
  "kernelspec": {
   "display_name": "Python 3",
   "language": "python",
   "name": "python3"
  },
  "language_info": {
   "codemirror_mode": {
    "name": "ipython",
    "version": 3
   },
   "file_extension": ".py",
   "mimetype": "text/x-python",
   "name": "python",
   "nbconvert_exporter": "python",
   "pygments_lexer": "ipython3",
   "version": "3.11.10"
  }
 },
 "nbformat": 4,
 "nbformat_minor": 2
}

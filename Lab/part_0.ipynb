{
 "cells": [
  {
   "cell_type": "markdown",
   "metadata": {},
   "source": [
    "# Preliminary"
   ]
  },
  {
   "cell_type": "markdown",
   "metadata": {
    "vscode": {
     "languageId": "plaintext"
    }
   },
   "source": [
    "Hello and welcome to this practical session about Diffusion Models.\n",
    "This session is split into two parts:\n",
    "\n",
    "1. Training score-based diffusion model from first principles\n",
    "2. Zero-shot learning with diffusion models priors\n",
    "\n",
    "In **Part I**, we will train a diffusion model on simple 2 dimensional dataset.\n",
    "We will explore key concepts in Diffusion Models and illustrate their interplay.\n",
    "In particular to will learn a distribution of points that write *AI*\n",
    "\n",
    "<img src=\"./illustrations/demo_ai.png\" />\n",
    "\n",
    "\n",
    "In **Part II**, we use pretrained Diffusion Model on images to perform image restoration without additional training of the model.\n",
    "Among others, we will solve the task of image colorization.\n",
    "\n",
    "<img src=\"./illustrations/demo_colorization.png\" />"
   ]
  },
  {
   "cell_type": "markdown",
   "metadata": {
    "vscode": {
     "languageId": "plaintext"
    }
   },
   "source": [
    "## Setup the working environment"
   ]
  },
  {
   "cell_type": "markdown",
   "metadata": {},
   "source": [
    "Before you start, ensure to download the ``assets`` folder.\n",
    "It has three sub folders\n",
    "\n",
    "- ``2D_data/``: contain data that will be used in Part I\n",
    "- ``images/``: contains two images of CelebaHQ dataset used in Part II \n",
    "- ``py_code/``: provides python code to help in both parts\n",
    "\n",
    "```\n",
    "  assets/\n",
    "  ├──── 2D_data/\n",
    "  |       └── cloud_points.pt\n",
    "  |       └── ...\n",
    "  ├──── images/\n",
    "  |       └── 00010.jpg\n",
    "  |       └── ...\n",
    "  ├──── py_code/\n",
    "  |    └── diffusion.py\n",
    "  |    └── ...\n",
    "```\n",
    "\n",
    "Make sure to place this folder in same level as the notebook (or python scripts) you will using to work on the two parts.\n",
    "\n",
    "**Example**\n",
    "\n",
    "```\n",
    "  ├── assets/\n",
    "  ├── part_0.ipynb\n",
    "```\n",
    "\n",
    "where ``part_0.ipynb`` refer to the current notebook."
   ]
  },
  {
   "cell_type": "code",
   "execution_count": 1,
   "metadata": {},
   "outputs": [
    {
     "data": {
      "text/plain": [
       "True"
      ]
     },
     "execution_count": 1,
     "metadata": {},
     "output_type": "execute_result"
    }
   ],
   "source": [
    "# check that\n",
    "import os\n",
    "\n",
    "os.path.isdir(\"./assets\")"
   ]
  },
  {
   "cell_type": "markdown",
   "metadata": {},
   "source": [
    "## Test the availability of python packages"
   ]
  },
  {
   "cell_type": "markdown",
   "metadata": {},
   "source": [
    "Ensure the all python packages used throughout the practical session are installed.\n",
    "\n",
    "Running the following cells should not raise any error"
   ]
  },
  {
   "cell_type": "code",
   "execution_count": 3,
   "metadata": {},
   "outputs": [],
   "source": [
    "# check PyTorch is installed\n",
    "import torch"
   ]
  },
  {
   "cell_type": "code",
   "execution_count": 4,
   "metadata": {},
   "outputs": [
    {
     "name": "stderr",
     "output_type": "stream",
     "text": [
      "/opt/homebrew/Caskroom/miniforge/base/envs/phd-env/lib/python3.10/site-packages/tqdm/auto.py:21: TqdmWarning: IProgress not found. Please update jupyter and ipywidgets. See https://ipywidgets.readthedocs.io/en/stable/user_install.html\n",
      "  from .autonotebook import tqdm as notebook_tqdm\n"
     ]
    }
   ],
   "source": [
    "# check diffusers\n",
    "import diffusers"
   ]
  },
  {
   "cell_type": "code",
   "execution_count": 5,
   "metadata": {},
   "outputs": [],
   "source": [
    "# check matplotlib\n",
    "import matplotlib"
   ]
  },
  {
   "cell_type": "code",
   "execution_count": 6,
   "metadata": {},
   "outputs": [],
   "source": [
    "# this not mandatory, but is good to have it in order to monitor the progress of loop\n",
    "import tqdm"
   ]
  }
 ],
 "metadata": {
  "kernelspec": {
   "display_name": "phd-env",
   "language": "python",
   "name": "python3"
  },
  "language_info": {
   "codemirror_mode": {
    "name": "ipython",
    "version": 3
   },
   "file_extension": ".py",
   "mimetype": "text/x-python",
   "name": "python",
   "nbconvert_exporter": "python",
   "pygments_lexer": "ipython3",
   "version": "3.10.14"
  }
 },
 "nbformat": 4,
 "nbformat_minor": 2
}
